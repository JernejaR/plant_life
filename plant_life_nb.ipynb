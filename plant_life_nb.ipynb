{
 "cells": [
  {
   "cell_type": "markdown",
   "metadata": {},
   "source": [
    "## PLANT LIFE ##\n",
    "### Life as a 2D plant is simple. You grow leaves towards the sun (middle of the screen has most light). And you try to repell other leaves doing the same... ###\n"
   ]
  },
  {
   "cell_type": "code",
   "execution_count": 4,
   "metadata": {},
   "outputs": [],
   "source": [
    "import pygame\n",
    "import sys\n",
    "import numpy as np\n",
    "from stem_multi import Stem, Stalks\n",
    "from plant_life import Simulation, timerFunc\n",
    "#from video import make_video\n",
    "\n",
    "from pygame.locals import *\n",
    "\n"
   ]
  },
  {
   "cell_type": "code",
   "execution_count": 5,
   "metadata": {},
   "outputs": [],
   "source": [
    "#number of plants\n",
    "plants=6\n",
    "#number of leaf stems per plant\n",
    "stems= 8\n",
    "# miliseconds betwen budding of new stems\n",
    "spawn_interval=500\n"
   ]
  },
  {
   "cell_type": "code",
   "execution_count": null,
   "metadata": {
    "collapsed": true
   },
   "outputs": [],
   "source": [
    "pygame.init()\n",
    "pygame.time.set_timer(USEREVENT, spawn_interval)\n",
    "    \n",
    "if __name__ == \"__main__\":\n",
    "    simulation = Simulation(plants=plants, stems=stems)\n",
    "\n",
    "    simulation.run()"
   ]
  },
  {
   "cell_type": "code",
   "execution_count": null,
   "metadata": {
    "collapsed": true
   },
   "outputs": [],
   "source": []
  }
 ],
 "metadata": {
  "kernelspec": {
   "display_name": "Python 3",
   "language": "python",
   "name": "python3"
  },
  "language_info": {
   "codemirror_mode": {
    "name": "ipython",
    "version": 3
   },
   "file_extension": ".py",
   "mimetype": "text/x-python",
   "name": "python",
   "nbconvert_exporter": "python",
   "pygments_lexer": "ipython3",
   "version": "3.6.1"
  }
 },
 "nbformat": 4,
 "nbformat_minor": 2
}
